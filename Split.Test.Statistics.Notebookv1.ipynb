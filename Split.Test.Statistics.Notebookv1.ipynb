{
 "cells": [
  {
   "cell_type": "code",
   "execution_count": 1,
   "metadata": {
    "collapsed": true
   },
   "outputs": [],
   "source": [
    "import numpy as np\n",
    "import matplotlib.pyplot as plt\n",
    "from scipy.stats import beta\n",
    "from scipy.stats import scoreatpercentile\n",
    "import pandas as pd\n",
    "%matplotlib inline\n"
   ]
  },
  {
   "cell_type": "markdown",
   "metadata": {},
   "source": [
    "Statistical difference in conversion"
   ]
  },
  {
   "cell_type": "code",
   "execution_count": 2,
   "metadata": {
    "collapsed": true
   },
   "outputs": [],
   "source": [
    "def simulate_test(success, trials, N=1):\n",
    "    return np.random.beta(success + 1, trials - success + 1, size=N)"
   ]
  },
  {
   "cell_type": "code",
   "execution_count": 3,
   "metadata": {
    "collapsed": false
   },
   "outputs": [],
   "source": [
    "def run_split_test(Ax, An, Bx, Bn, N=10000):\n",
    "    As = simulate_test(Ax, An, N)\n",
    "    Bs = simulate_test(Bx, Bn, N)\n",
    "    D = Bs - As\n",
    "    pBeta = (D > 0).mean()\n",
    "    d1 = (scoreatpercentile(D, 2.5))\n",
    "    d2 = (scoreatpercentile(D, 50))\n",
    "    d3 = (scoreatpercentile(D, 97.5))\n",
    "    return pd.DataFrame({'2.5':[d1],'50':[d2], '97.5' : [d3]})"
   ]
  },
  {
   "cell_type": "code",
   "execution_count": 4,
   "metadata": {
    "collapsed": false
   },
   "outputs": [
    {
     "data": {
      "text/html": [
       "<div>\n",
       "<table border=\"1\" class=\"dataframe\">\n",
       "  <thead>\n",
       "    <tr style=\"text-align: right;\">\n",
       "      <th></th>\n",
       "      <th>2.5</th>\n",
       "      <th>50</th>\n",
       "      <th>97.5</th>\n",
       "    </tr>\n",
       "  </thead>\n",
       "  <tbody>\n",
       "    <tr>\n",
       "      <th>0</th>\n",
       "      <td>-0.013241</td>\n",
       "      <td>0.009894</td>\n",
       "      <td>0.03463</td>\n",
       "    </tr>\n",
       "  </tbody>\n",
       "</table>\n",
       "</div>"
      ],
      "text/plain": [
       "        2.5        50     97.5\n",
       "0 -0.013241  0.009894  0.03463"
      ]
     },
     "execution_count": 4,
     "metadata": {},
     "output_type": "execute_result"
    }
   ],
   "source": [
    "run_split_test(111, 1198, 123, 1198)"
   ]
  },
  {
   "cell_type": "markdown",
   "metadata": {
    "collapsed": true
   },
   "source": [
    "Statistical difference in margin"
   ]
  },
  {
   "cell_type": "code",
   "execution_count": 5,
   "metadata": {
    "collapsed": true
   },
   "outputs": [],
   "source": [
    "#replace lgw_values.csv with your csv file name in function (get_avg_margin) to import margin per booking \n",
    "#this should be a list of margin per bookings by ref over a reasonable period depending on the amount of data available\n",
    "def get_avg_margin(filename):\n",
    "    dfA = pd.read_csv(filename, sep=',', encoding='latin1')\n",
    "    avg_margin = dfA.ADDON_MARGIN.values\n",
    "    avg_margin = avg_margin[avg_margin > 0]\n",
    "    return avg_margin\n",
    "\n",
    "avg_margin = get_avg_margin('lgw_value.csv')"
   ]
  },
  {
   "cell_type": "code",
   "execution_count": 6,
   "metadata": {
    "collapsed": true
   },
   "outputs": [],
   "source": [
    "#WIP - haven't got this to work quite right yet\n",
    "\n",
    "def get_margin_range(totA, totB, conversionsA, conversionsB, sessionsA, sessionsB):\n",
    "    conversionA_beta = np.random.beta(conversionsA, sessionsA)\n",
    "    bookingsA = np.random.binomial(1, conversionA_beta, totA)\n",
    "    revenueA = np.random.choice(avg_margin, bookingsA.sum(), replace=True)\n",
    "    revenueA_sum = revenueA.sum()\n",
    "    conversionB_beta = np.random.beta(conversionsB, sessionsB)\n",
    "    bookingsB = np.random.binomial(1, conversionB_beta, totB)\n",
    "    revenueB = np.random.choice(avg_margin, bookingsB.sum(), replace=True)\n",
    "    revenueB_sum = revenueB.sum()\n",
    "    test_ests = np.array([revenueB_sum for _ in range(10000)])\n",
    "    control_ests = np.array([revenueA_sum for _ in range(10000)])\n",
    "    delta = test_ests - control_ests\n",
    "    print (delta > 0).mean(), control_ests.mean(), scoreatpercentile(delta, 2.5), scoreatpercentile(delta, 50), scoreatpercentile(delta, 97.5)\n",
    "\n",
    "    "
   ]
  },
  {
   "cell_type": "code",
   "execution_count": 7,
   "metadata": {
    "collapsed": false
   },
   "outputs": [
    {
     "name": "stdout",
     "output_type": "stream",
     "text": [
      "1.0 48168.17 5931.74 5931.74 5931.74\n"
     ]
    }
   ],
   "source": [
    "get_margin_range(54659, 54659, 121, 136, 1459, 1459)"
   ]
  },
  {
   "cell_type": "code",
   "execution_count": 13,
   "metadata": {
    "collapsed": true
   },
   "outputs": [],
   "source": [
    "def get_test_estimate(tot, conversions, sessions):\n",
    "    parking_conversion_beta = np.random.beta(conversions, sessions)\n",
    "    parking_bookings = np.random.binomial(1, parking_conversion_beta, tot)\n",
    "    parking_revenue = np.random.choice(avg_margin, parking_bookings.sum(), replace=True)\n",
    "    return parking_revenue.sum()\n",
    "\n",
    "\n",
    "def get_control_estimate(tot, conversions, sessions):\n",
    "    conversion_beta = np.random.beta(conversions, sessions)\n",
    "    bookings = np.random.binomial(1, conversion_beta, tot)\n",
    "    revenue = np.random.choice(avg_margin, bookings.sum(), replace=True)\n",
    "    return revenue.sum()\n",
    "\n",
    "test_ests = np.array([get_test_estimate(54659, 121, 1459) for _ in range(10000)])\n",
    "control_ests = np.array([get_control_estimate(54659, 136, 1459) for _ in range(10000)])"
   ]
  },
  {
   "cell_type": "code",
   "execution_count": 12,
   "metadata": {
    "collapsed": false
   },
   "outputs": [
    {
     "name": "stdout",
     "output_type": "stream",
     "text": [
      "0.1851\n",
      "(47483.464869000003, -15511.693749999997, -4846.9500000000007, 6166.6280000000006)\n"
     ]
    }
   ],
   "source": [
    "delta = test_ests - control_ests\n",
    "print((delta > 0).mean())\n",
    "print(control_ests.mean(), \n",
    "      #range of the deltas difference between test and control value\n",
    "      scoreatpercentile(delta, 2.5), \n",
    "      scoreatpercentile(delta, 50), \n",
    "      scoreatpercentile(delta, 97.5))"
   ]
  },
  {
   "cell_type": "code",
   "execution_count": null,
   "metadata": {
    "collapsed": true
   },
   "outputs": [],
   "source": [
    "delta = test_ests - control_ests\n",
    "print((delta > 0).mean())\n",
    "print(control_ests.mean(), \n",
    "      #range of the deltas difference between test and control value\n",
    "      scoreatpercentile(delta, 2.5), \n",
    "      scoreatpercentile(delta, 50), \n",
    "      scoreatpercentile(delta, 97.5))"
   ]
  }
 ],
 "metadata": {
  "kernelspec": {
   "display_name": "Python 2",
   "language": "python",
   "name": "python2"
  },
  "language_info": {
   "codemirror_mode": {
    "name": "ipython",
    "version": 2
   },
   "file_extension": ".py",
   "mimetype": "text/x-python",
   "name": "python",
   "nbconvert_exporter": "python",
   "pygments_lexer": "ipython2",
   "version": "2.7.11"
  }
 },
 "nbformat": 4,
 "nbformat_minor": 0
}
